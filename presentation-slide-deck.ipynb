{
 "cells": [
  {
   "cell_type": "markdown",
   "metadata": {
    "slideshow": {
     "slide_type": "slide"
    }
   },
   "source": [
    "# Energy Dashboard \n",
    "\n",
    "## Overview\n",
    "\n",
    "The Energy Dashboard, a part of the Energy Analytics Project, is a tool to help de-carbonize the energy sector by providing easy access to publicly available data. \n",
    "\n",
    "## Presenter\n",
    "\n",
    "```bash\n",
    "Todd Greenwood-Geer\n",
    "pub+github@zwrob.com\n",
    "Enviro Software Solutions, LLC.  \n",
    "http://envirosoftwaresolutions.com\n",
    "```\n",
    "    \n",
    "## Presentation Date\n",
    "\n",
    "```bash\n",
    "Nov 14, 2019\n",
    "```"
   ]
  },
  {
   "cell_type": "markdown",
   "metadata": {
    "slideshow": {
     "slide_type": "slide"
    }
   },
   "source": [
    "## Energy Overview : Federal (USA)"
   ]
  },
  {
   "cell_type": "markdown",
   "metadata": {},
   "source": [
    "### Consumption by Source\n",
    "\n",
    "<img alt=\"Energy Consumption by Source\" src=\"https://github.com/energy-analytics-project/energy-dashboard-tutorials/raw/master/resources/images/eia-energy-consumption-by-source-2018-1024.jpg\" width=600/>\n",
    "\n",
    "Image courtesy of [EIA](https://www.eia.gov/energyexplained/us-energy-facts/)."
   ]
  },
  {
   "cell_type": "markdown",
   "metadata": {},
   "source": [
    "### Consumption by Source and Sector\n",
    "\n",
    "<img alt=\"Consumption by Source and Sector\" src=\"https://www.eia.gov/energyexplained/us-energy-facts/images/consumption-by-source-and-sector.png\" width=600/>\n",
    "\n",
    "Image courtesy of [EIA](https://www.eia.gov/energyexplained/us-energy-facts/)."
   ]
  },
  {
   "cell_type": "markdown",
   "metadata": {
    "slideshow": {
     "slide_type": "slide"
    }
   },
   "source": [
    "### The Grid\n",
    "\n",
    "<img alt=\"United States Power Grid\" src=\"https://www.geni.org/globalenergy/library/national_energy_grid/united-states-of-america/graphics/UnitedStatesPowerGrid.jpg\" width=600/>\n",
    "\n",
    "Image courtesy of [GENI](https://geni.org)."
   ]
  },
  {
   "cell_type": "markdown",
   "metadata": {
    "slideshow": {
     "slide_type": "slide"
    }
   },
   "source": [
    "### Power Flow\n",
    "\n",
    "<img alt=\"United States Energy Flow\" src=\"https://www.eia.gov/todayinenergy/images/2011.12.12/RegionalPowerFlows.png\" width=600/>\n",
    "\n",
    "Image courtesy of [EIA](https://www.eia.gov)."
   ]
  },
  {
   "cell_type": "markdown",
   "metadata": {
    "slideshow": {
     "slide_type": "slide"
    }
   },
   "source": [
    "#### Energy Grid\n",
    "\n",
    "<img alt=\"RTO MAP\" src=\"https://upload.wikimedia.org/wikipedia/commons/5/53/RTO_v2.png\" width=600/>\n",
    "\n",
    "|RTO|ISO|\n",
    "|---|---|\n",
    "|Regional Transmission Organization|Independent System Operator|\n",
    "|_A regional transmission organization (RTO) in the United States is an electric power transmission system operator (TSO) that coordinates, controls, and monitors a multi-state electric grid._[wikipedia](https://en.wikipedia.org/wiki/Regional_transmission_organization_(North_America))|_An independent system operator (ISO) is similarly an organization formed at the recommendation of FERC. In the areas where an ISO is established, it coordinates, controls, and monitors the operation of the electrical power system, usually within a single US state, but sometimes encompassing multiple states._[wikipedia](https://en.wikipedia.org/wiki/Regional_transmission_organization_(North_America))|\n",
    "\n",
    "_RTOs do the same thing (as ISOs) with an added component of greater responsibility for the transmission network, as established by the FERC._ [wikipedia](https://en.wikipedia.org/wiki/Regional_transmission_organization_(North_America))\n",
    "\n",
    "Photo courtesy of [wikimedia](https://wikimedia.org)."
   ]
  },
  {
   "cell_type": "markdown",
   "metadata": {
    "slideshow": {
     "slide_type": "slide"
    }
   },
   "source": [
    "### Government Agencies\n",
    "\n",
    "<img alt=\"Government\" src=https://farm9.staticflickr.com/8637/16079238905_aabb29d0e9_m.jpg width=400/>\n",
    "\n",
    "|Agency|Acronym|\n",
    "|------|-------|\n",
    "|United States Department of Energy|DOE|\n",
    "|Federal Energy Regulatory Commission|FERC|\n",
    "|National Institute of Standards and Technology|NIST|\n",
    "|Bureau of Ocean Energy Management|BOEM|\n",
    "|Office of Surface Mining Reclamation and Enforcement|OSMRE|\n",
    "|Bonneville Power Administration|BPA|\n",
    "|U.S. Army Corps of Engineers|USACE|\n",
    "|Pacific Northwest National Laboratory|PNNL|"
   ]
  },
  {
   "cell_type": "markdown",
   "metadata": {
    "slideshow": {
     "slide_type": "slide"
    }
   },
   "source": [
    "#### DOE : http://www.energy.gov \n",
    "\n",
    "![pic](https://upload.wikimedia.org/wikipedia/commons/thumb/3/31/Kerncentrale_Doel_pic1.JPG/300px-Kerncentrale_Doel_pic1.JPG)\n",
    "\n",
    "_The United States Department of Energy (DOE) is a cabinet-level department of the United States Government concerned with the United States' policies regarding energy and safety in handling nuclear material. Its responsibilities include the nation's nuclear weapons program, nuclear reactor production for the United States Navy, energy conservation, energy-related research, radioactive waste disposal, and domestic energy production._ [wikipedia](https://en.wikipedia.org/wiki/United_States_Department_of_Energy)\n",
    "\n",
    "Photo courtesy of [creativecommons](https://creativecommons.org)."
   ]
  },
  {
   "cell_type": "markdown",
   "metadata": {
    "slideshow": {
     "slide_type": "-"
    }
   },
   "source": [
    "#### FERC : https://www.ferc.gov\n",
    "\n",
    "|GAS|HYDRO|LNG|\n",
    "|---|-----|---|\n",
    "|![pic](https://www.ferc.gov/images/photogallery/main_gas.jpg)|![pic](https://www.ferc.gov/images/photogallery/main_hydro.jpg)|![pic](https://www.ferc.gov/images/photogallery/main_lng.jpg)|\n",
    "\n",
    "_The Federal Energy Regulatory Commission (FERC) is the United States federal agency that regulates the transmission and wholesale sale of electricity and natural gas in interstate commerce and regulates the transportation of oil by pipeline in interstate commerce. FERC also reviews proposals to build interstate natural gas pipelines, natural gas storage projects, and liquefied natural gas (LNG) terminals, in addition to licensing non-federal hydropower projects._ [wikipedia](https://en.wikipedia.org/wiki/Federal_Energy_Regulatory_Commission)\n",
    "\n",
    "Photos Courtesy of [FERC](https://www.ferc.gov)."
   ]
  },
  {
   "cell_type": "markdown",
   "metadata": {
    "slideshow": {
     "slide_type": "slide"
    }
   },
   "source": [
    "#### FERC : https://www.ferc.gov\n",
    "\n",
    "<img alt=\"RTO/ISO Map\" src=\"https://external-content.duckduckgo.com/iu/?u=https%3A%2F%2Faemstatic-ww2.azureedge.net%2Fcontent%2Felp%2Fen%2Farticles%2F2018%2F03%2Fiso-ne-resiliency-report-to-ferc-warns-that-fuel-security-at-risk%2F_jcr_content%2Fleftcolumn%2Farticle%2Fheaderimage.img.png%2F1520630778940.png&f=1&nofb=1\" width=600/>"
   ]
  },
  {
   "cell_type": "markdown",
   "metadata": {
    "slideshow": {
     "slide_type": "slide"
    }
   },
   "source": [
    "#### NIST : https://www.nist.gov/\n",
    "\n",
    "![verniers](https://live.staticflickr.com/4108/5048206868_86f60b45cb_m.jpg)\n",
    "\n",
    "_The National Institute of Standards and Technology (NIST) is a physical sciences laboratory, and a non-regulatory agency of the United States Department of Commerce. Its mission is to promote innovation and industrial competitiveness. NIST's activities are organized into laboratory programs that include nanoscale science and technology, engineering, information technology, neutron research, material measurement, and physical measurement._[wikipedia](https://en.wikipedia.org/wiki/National_Institute_of_Standards_and_Technology)\n",
    "\n",
    "https://www.nist.gov/topics/energy\n",
    "\n",
    "_NIST develops the testing, measurements, and reference materials needed to ensure the quality of energy-related products and services and ensure fairness in the marketplace._[NIST](https://www.nist.gov/topics/energy)\n",
    "\n",
    "Photos Courtesy of [creativecommons](https://creativecommons.org)."
   ]
  },
  {
   "cell_type": "markdown",
   "metadata": {
    "slideshow": {
     "slide_type": "slide"
    }
   },
   "source": [
    "#### BOEM : https://www.boem.gov/\n",
    "\n",
    "|WIND|OIL|\n",
    "|----|---|\n",
    "|![wind](https://farm4.staticflickr.com/3874/15224848795_5e692d41b1_m.jpg)|![oil](https://live.staticflickr.com/1769/42412887965_9c05cb8f58_m.jpg)|\n",
    "\n",
    "_The Mission of the Bureau of Ocean Energy Management is to manage development of U.S. Outer Continental Shelf energy and mineral resources in an environmentally and economically responsible way._[BOEM](https://www.boem.gov/About-BOEM/)\n",
    "\n",
    "Photos Courtesy of [creativecommons](https://creativecommons.org)."
   ]
  },
  {
   "cell_type": "markdown",
   "metadata": {
    "slideshow": {
     "slide_type": "slide"
    }
   },
   "source": [
    "#### OSMRE : https://www.osmre.gov/\n",
    "\n",
    "|REGIONS|OPEN PIT MINE|RECLAMATION|\n",
    "|----------|-----------|----------|\n",
    "|![pic](https://upload.wikimedia.org/wikipedia/commons/5/50/Osm_Regions.gif)|![pic](https://farm1.staticflickr.com/446/31532656044_56475f7a36_m.jpg)|![pic](https://www.osmre.gov/images/AboutUsImage.jpg)|\n",
    "\n",
    "_The Office of Surface Mining Reclamation and Enforcement (OSMRE) is a bureau within the United States Department of the Interior. OSMRE is responsible for establishing a nationwide program to protect society and the environment from the adverse effects of surface coal mining operations, under which OSMRE is charged with balancing the nation’s need for continued domestic coal production with protection of the environment._[OSMRE](https://www.osmre.gov/about.shtm)\n",
    "\n",
    "Photos courtesy of [OSMRE](https://www.osmre.gov)."
   ]
  },
  {
   "cell_type": "markdown",
   "metadata": {
    "slideshow": {
     "slide_type": "slide"
    }
   },
   "source": [
    "#### BPA : https://www.bpa.gov\n",
    "\n",
    "<img src=https://farm6.staticflickr.com/5648/20418974809_f38bdc91a6_m.jpg width=600/>\n",
    "\n",
    "_The Bonneville Power Administration is a nonprofit federal power marketing administration based in the Pacific Northwest. Although BPA is part of the U.S. Department of Energy, it is self-funding and covers its costs by selling its products and services. BPA markets wholesale electrical power from 31 federal hydroelectric projects in the Northwest, one nonfederal nuclear plant and several small nonfederal power plants. The dams are operated by the U.S. Army Corps of Engineers and the Bureau of Reclamation. The nonfederal nuclear plant, Columbia Generating Station, is owned and operated by Energy Northwest, a joint operating agency of the state of Washington. BPA provides about 28 percent of the electric power used in the Northwest and its resources — primarily hydroelectric — make BPA power nearly carbon free._\n",
    "\n",
    "Photo courtesy [creativecommons](https://creativecommons.org)."
   ]
  },
  {
   "cell_type": "markdown",
   "metadata": {
    "slideshow": {
     "slide_type": "slide"
    }
   },
   "source": [
    "#### BPA : https://www.bpa.gov\n",
    "\n",
    "##### Federal Power Administrations\n",
    "\n",
    "<img alt=\"Federal Power Administrations\" src=https://www.bpa.gov/p/Generation/Hydro/hydro/PMA-Corps-Infographic-Map-460.jpg width=600/>\n",
    "\n",
    "Photos courtesy of [BPA](https://www.bpa.gov)."
   ]
  },
  {
   "cell_type": "markdown",
   "metadata": {
    "slideshow": {
     "slide_type": "slide"
    }
   },
   "source": [
    "#### USACE : https://www.usace.army.mil\n",
    "\n",
    "<img alt=\"Generators\" src=https://www.nwp.usace.army.mil/portals/24/siteimages/hydropower/080315-A-GJ792-001.jpg width=200/>\n",
    "\n",
    "_The U.S. Army Corps of Engineers is the largest operator of hydroelectric power plants in the U.S., and one of the largest in the world. The 75 Corps plants have a total installed capacity of 20,474 megawatts and produce nearly 100 billion kilowatt-hours a year. Nearly a third of the nation's total hydropower output, it's enough energy to serve about ten million households, or roughly ten cities the size of Seattle._[USACE/HYDROPOWER](https://www.nwp.usace.army.mil/hydropower)\n",
    "\n",
    "Photo courtesy of [USACE](https://www.usace.army.mil)."
   ]
  },
  {
   "cell_type": "markdown",
   "metadata": {
    "slideshow": {
     "slide_type": "slide"
    }
   },
   "source": [
    "#### NERC : https://www.nerc.com\n",
    "\n",
    "<img alt=\"NERC\" src=\"https://www.nerc.com/AboutNERC/keyplayers/PublishingImages/New%20Regions%20map%20no%20FRCC.jpg\" width=600/>\n",
    "\n",
    "_The North American Electric Reliability Corporation (NERC) is a not-for-profit international regulatory authority whose mission is to assure the effective and efficient reduction of risks to the reliability and security of the grid. NERC develops and enforces Reliability Standards; annually assesses seasonal and long‐term reliability; monitors the bulk power system through system awareness; and educates, trains, and certifies industry personnel. NERC’s area of responsibility spans the continental United States, Canada, and the northern portion of Baja California, Mexico. NERC is the electric reliability organization (ERO) for North America, subject to oversight by the Federal Energy Regulatory Commission (FERC) and governmental authorities in Canada. NERC's jurisdiction includes users, owners, and operators of the bulk power system, which serves more than 334 million people._[NERC](https://www.nerc.com/AboutNERC/Pages/default.aspx)\n",
    "\n",
    "Image courtesy of [NERC](https://www.nerc.com/AboutNERC/keyplayers/Pages/default.aspx)."
   ]
  },
  {
   "cell_type": "markdown",
   "metadata": {
    "slideshow": {
     "slide_type": "slide"
    }
   },
   "source": [
    "#### PNNL : https://www.nerc.com\n",
    "\n",
    "<img alt=\"Energy Affordability\" src=\"https://www.pnnl.gov/sites/default/files/styles/hero_1600x1200/public/media/image/gmlc-4k-screenshot.png?itok=guZ1tw17\" width=600/>\n",
    "\n",
    "_Pacific Northwest National Laboratory plays a leading role in developing a power grid that enables real-time predictive operation to improve reliability and efficiency; incorporates advanced controls that engage new devices and enable new services at scale while ensuring resilience; and uses new approaches and technologies, such as energy storage, microgrids, and transactive energy, to provide flexibility in support of an array of energy futures._[PNNL](https://www.pnnl.gov/electric-grid-modernization)"
   ]
  },
  {
   "cell_type": "markdown",
   "metadata": {
    "slideshow": {
     "slide_type": "slide"
    }
   },
   "source": [
    "### Federal Agencies (SUMMARY)\n",
    "\n",
    "|AGENCY|FOCUS|\n",
    "|------|-----|\n",
    "|DOE|NUCLEAR|\n",
    "|FERC|INTERSTATE TRANSMISSION/COMMERCE|\n",
    "|NIST|STANDARDS & RESEARCH|\n",
    "|BOEM|OFFSHORE ENERGY (DRILLING & WIND)|\n",
    "|OSMRE|COAL|\n",
    "|BPA|HYDRO & TRANSMISSION|\n",
    "|USACE|HYDRO (in this context)|\n",
    "|NERC|REGULATORY|\n",
    "|PNNL|RESEARCH|"
   ]
  },
  {
   "cell_type": "markdown",
   "metadata": {
    "slideshow": {
     "slide_type": "slide"
    }
   },
   "source": [
    "## Energy Overview : The West"
   ]
  },
  {
   "cell_type": "markdown",
   "metadata": {
    "slideshow": {
     "slide_type": "slide"
    }
   },
   "source": [
    "### Balancing Authority\n",
    "\n",
    "<img alt=\"Balancing Authorities\" src=\"https://www.eia.gov/todayinenergy/images/2016.07.20/main.png\" width=600/>\n",
    "\n",
    "_A balancing authority ensures, in real time, that power system demand and supply are finely balanced. This balance is needed to maintain the safe and reliable operation of the power system. If demand and supply fall out of balance, local or even wide-area blackouts can result._[EIA](https://www.eia.gov/todayinenergy/detail.php?id=27152)\n",
    "\n",
    "Image courtesy of EIA.gov."
   ]
  },
  {
   "cell_type": "markdown",
   "metadata": {
    "slideshow": {
     "slide_type": "slide"
    }
   },
   "source": [
    "### WECC Balancing Authorities\n",
    "\n",
    "<img alt=\"BPA Service Area\" src=\"https://github.com/energy-analytics-project/energy-dashboard-tutorials/raw/master/resources/images/wecc-balancing-authorities-1024.jpg\" width=600/>\n",
    "\n",
    "\n",
    "_The Western Electricity Coordinating Council (WECC) is a not-for-profit organization that works to effectively and efficiently mitigate risks to the reliability and security of the Western Interconnection’s Bulk Power System.  WECC operates under a Federal Energy Regulatory Commission (FERC) approved delegation agreement with the North American Electric Reliability Corporation (NERC) and in accordance with WECC’s Bylaws._[WECC](https://www.wecc.org/WREGIS/Pages/Default.aspx)\n",
    "\n",
    "Image courtesy of WECC."
   ]
  },
  {
   "cell_type": "markdown",
   "metadata": {
    "slideshow": {
     "slide_type": "slide"
    }
   },
   "source": [
    "### Key West Coast Players\n",
    "\n",
    "#### Key Agencies  \n",
    "\n",
    "|AGENCY|FUNCTION|\n",
    "|--------------|--------|\n",
    "|British Columbia Hydro Authority (BCHA)|Balancing Authority|\n",
    "|Bonneville Power Administration (BPA)|Hydro Producer, Transmission, Balancing Authority|\n",
    "|Environmental Protection Agency (EPA)|Columbia River Basin|\n",
    "|North West Power and Conservation Council (NWPCC)|Regional Oversight|\n",
    "|California Independent Service Operator (CAISO)|Balancing Authority|"
   ]
  },
  {
   "cell_type": "markdown",
   "metadata": {
    "slideshow": {
     "slide_type": "slide"
    }
   },
   "source": [
    "#### BCHA : https://www.bchydro.com\n",
    "\n",
    "##### Service Area\n",
    "\n",
    "<img alt=\"BPA Service Area\" src=\"https://github.com/energy-analytics-project/energy-dashboard-tutorials/raw/master/resources/images/bc-hydro-transplt-1024-000.jpg\"  width=600/> \n",
    "\n",
    "##### Generating Capacity\n",
    "\n",
    "|HYDRO (#)|HYDRO (MW)|THERMAL (#)|THERMAL (MW)|TOTAL (MW)|\n",
    "|---------|----------|-----------|------------|----------|\n",
    "|31|11,932|3|177|12,109|\n",
    "\n",
    "[BCHydro-Annual-Service-Plan-Report-2018-2019](https://www.bchydro.com/content/dam/BCHydro/customer-portal/documents/corporate/accountability-reports/financial-reports/annual-reports/BCHydro-Annual-Service-Plan-Report-2018-2019.pdf)\n",
    "[EIA](https://www.eia.gov/todayinenergy/detail.php?id=16891)\n",
    "\n",
    "_BC Hydro is a Crown corporation, owned by the government and people of British Columbia. It's our job to safely provide our customers with reliable, affordable and clean electricity throughout the province._[BCHA](https://www.bchydro.com/toolbar/about.html)"
   ]
  },
  {
   "cell_type": "markdown",
   "metadata": {
    "slideshow": {
     "slide_type": "slide"
    }
   },
   "source": [
    "\n",
    "#### BPA : https://www.bpa.gov\n",
    "\n",
    "##### Service Area\n",
    "\n",
    "<img alt=\"BPA Service Area\" src=\"https://github.com/energy-analytics-project/energy-dashboard-tutorials/raw/master/resources/images/bpa-service-area-1024.jpg\" width=600/>\n",
    "\n",
    "Image courtesy of [BPA](https://www.bpa.gov/news/pubs/map/BPA_ServiceArea.pdf)"
   ]
  },
  {
   "cell_type": "markdown",
   "metadata": {
    "slideshow": {
     "slide_type": "slide"
    }
   },
   "source": [
    "#### BPA : https://www.bpa.gov\n",
    "\n",
    "<img alt=\"Columbia River Basin Dams\" src=\"https://www.eia.gov/todayinenergy/images/2014.06.27/mainbig.png\" width=600/>\n",
    "\n",
    "##### Generating Capacity\n",
    "\n",
    "_Entire Columbia River Basin including Tributaries and 3 Dams in BC, Canada_\n",
    "\n",
    "|HYDRO (#)|HYDRO (MW)|THERMAL (#)|THERMAL (MW)|TOTAL (MW)|\n",
    "|---------|----------|-----------|------------|----------|\n",
    "|32+|29,000|N/A|N/A|29,000|\n",
    "\n",
    "_Hydroelectric power plants located in the Columbia River Basin account for a little more than one third of all the hydroelectric capacity in the United States. The Columbia River runs from the Canadian Rockies and flows 1,214 miles through Idaho, Oregon, and Washington, but the river basin also includes parts of Montana, Nevada, Wyoming, and Utah. Hydroelectric power plants located on the river and its tributaries account for 29 gigawatts (GW) of hydroelectric generating capacity and contributed 44% of the total hydroelectric generation in the nation in 2012._[EIA](https://www.eia.gov/todayinenergy/detail.php?id=16891)\n",
    "\n",
    "Image courtesy of [EIA](https://www.eia.gov)."
   ]
  },
  {
   "cell_type": "markdown",
   "metadata": {
    "slideshow": {
     "slide_type": "slide"
    }
   },
   "source": [
    "#### BPA : https://www.bpa.gov\n",
    "\n",
    "##### BPA Transmission Lines and Facilities\n",
    "\n",
    "<img alt=\"BPA Service Area\" src=\"https://github.com/energy-analytics-project/energy-dashboard-tutorials/raw/master/resources/images/bpa-transmission-lines-and-facilities-1024.jpg\" width=600/>\n",
    "\n",
    "Image courtesy of [BPA](https://www.bpa.gov/news/pubs/map/BPA_TransmissionLines_and_Facilities.pdf)"
   ]
  },
  {
   "cell_type": "markdown",
   "metadata": {
    "slideshow": {
     "slide_type": "slide"
    }
   },
   "source": [
    "#### BPA : https://www.bpa.gov\n",
    "\n",
    "##### BPA Transmission Lines and Facilities\n",
    "\n",
    "<img alt=\"BPA Service Area\" src=\"https://github.com/energy-analytics-project/energy-dashboard-tutorials/raw/master/resources/images/bpa-transmission-lines-small-1024.jpg\" width=600/>\n",
    "\n",
    "_BPA also operates and maintains about three-fourths of the high-voltage transmission in its service territory. BPA’s territory includes Idaho, Oregon, Washington, western Montana and small parts of eastern Montana, California, Nevada, Utah and Wyoming._[BPA](https://www.bpa.gov/news/AboutUs/Pages/default.aspx)\n",
    "\n",
    "Image courtesy of [BPA](https://www.bpa.gov/news/pubs/map/BPA_TLines_small.pdf)"
   ]
  },
  {
   "cell_type": "markdown",
   "metadata": {
    "slideshow": {
     "slide_type": "slide"
    }
   },
   "source": [
    "#### EPA : https://www.epa.gov\n",
    "\n",
    "#####  Columbia River Basin Restoration Program\n",
    "\n",
    "<img alt=\"EPA Columbia River Basin Report\" src=\"https://www.epa.gov/sites/production/files/styles/medium/public/2017-07/columbia-river-cold-water-refuges-decorative.jpg\" width=400/>\n",
    "\n",
    "* [Chemicals of Emerging Concern](https://www.epa.gov/columbiariver/chemicals-emerging-concern-columbia-river)\n",
    "* [Toxics](https://www.epa.gov/columbiariver/2009-state-river-report-toxics)\n",
    "* [Cold Water Refuges](https://www.epa.gov/columbiariver/columbia-river-cold-water-refuges)\n",
    "\n",
    "_Congress amended the Clean Water Act in 2016 by adding Section 123, which required EPA to establish a Columbia River Basin Restoration Program. It was the first legislation to officially designate the national importance of restoring the Columbia River Basin, one of our nation’s largest watersheds. The legislation focuses on the U.S. portion of the Basin, including the states of Oregon, Washington, Idaho, and Montana._[EPA](https://www.epa.gov/columbiariver/about-epas-work-columbia-river-basin)\n",
    "Photo courtesy of EPA."
   ]
  },
  {
   "cell_type": "markdown",
   "metadata": {
    "slideshow": {
     "slide_type": "slide"
    }
   },
   "source": [
    "### Key West Coast Players\n",
    "\n",
    "#### Large Companies\n",
    "\n",
    "|COMPANY| WA | OR | CA |\n",
    "|-------|----|----|----|\n",
    "|Pacificorp|X|X|O|\n",
    "|Puget Sound Energy|X|O|O|\n",
    "|Portland General Electric|O|X|O|\n",
    "|Pacific Gas & Electric (PGE)|O|O|X|\n",
    "\n",
    "[source](https://www.bestenergynews.com/solar/utility_co/utility_companies.php)"
   ]
  },
  {
   "cell_type": "markdown",
   "metadata": {
    "slideshow": {
     "slide_type": "slide"
    }
   },
   "source": [
    "## In the News\n",
    "\n",
    "|DATE|ACTORS|ARENA|DESCRIPTION|\n",
    "|----|------|-----|-----------|\n",
    "|2019|Washington State & BC Hydro|Clean Grid|[Fight Climate Crisis Together](https://www.geekwire.com/2019/washington-state-b-c-launch-joint-clean-grid-initiative-align-renewable-energy-transition/)\n",
    "|2019|BPA & CAISO|EIM|[BPA signs implementation agreement with CAISO to join EIM](https://www.bpa.gov/Projects/Initiatives/EIM/Pages/Energy-Imbalance-Market.aspx)|\n",
    "|2017|BC Hydro (Powerex) & CAISO|EIM|[Powerex joins EIM](www.caiso.com/Documents/PowerexWillJoinWesternEnergyImbalanceMarket.pdf)|\n",
    "                  "
   ]
  },
  {
   "cell_type": "markdown",
   "metadata": {
    "slideshow": {
     "slide_type": "slide"
    }
   },
   "source": [
    "## Current Issues\n",
    "\n",
    "* Capacity\n",
    "* Transmission\n",
    "* Storage\n",
    "* RE Disruption"
   ]
  },
  {
   "cell_type": "markdown",
   "metadata": {
    "slideshow": {
     "slide_type": "slide"
    }
   },
   "source": [
    "## CAISO OASIS DEEP DIVE\n",
    "\n",
    "TODO"
   ]
  },
  {
   "cell_type": "markdown",
   "metadata": {},
   "source": [
    "### What was Enron?\n",
    "\n",
    "TODO"
   ]
  },
  {
   "cell_type": "markdown",
   "metadata": {
    "slideshow": {
     "slide_type": "slide"
    }
   },
   "source": [
    "### What is CAISO?\n",
    "\n",
    "TODO"
   ]
  },
  {
   "cell_type": "markdown",
   "metadata": {
    "slideshow": {
     "slide_type": "slide"
    }
   },
   "source": [
    "### What is CAISO OASIS?\n",
    "\n",
    "TODO"
   ]
  },
  {
   "cell_type": "markdown",
   "metadata": {
    "slideshow": {
     "slide_type": "slide"
    }
   },
   "source": [
    "### What is the Energy Dashboard?\n",
    "\n",
    "TODO"
   ]
  },
  {
   "cell_type": "markdown",
   "metadata": {
    "slideshow": {
     "slide_type": "slide"
    }
   },
   "source": [
    "## More Links\n",
    "* https://en.wikipedia.org/wiki/Regional_transmission_organization_(North_America)\n",
    "* https://www.thebalance.com/who-regulates-energy-companies-in-the-united-states-1182615\n",
    "* https://en.wikipedia.org/wiki/Regional_transmission_organization_(North_America)\n",
    "* https://isorto.org/\n",
    "* https://en.wikipedia.org/wiki/Columbia_River\n",
    "* https://www.eia.gov/todayinenergy/detail.php?id=16891\n",
    "* http://www.cbr.washington.edu/hydro\n",
    "* https://www.nwcouncil.org/reports/columbia-river-history/hydropower\n",
    "* [Orcas Briefing](https://www.nwcouncil.org/sites/default/files/2019_1015_1.pdf)\n",
    "* [Marine Heat Waves Briefing](https://www.nwcouncil.org/sites/default/files/2019_1015_2.pdf)\n",
    "* https://www.nwcouncil.org/\n",
    "* https://www.nwpp.org/\n",
    "* [Seventh Power Plan](https://www.nwcouncil.org/energy/7th-northwest-power-plan/about-seventh-power-plan)\n",
    "* [Invenergy IPP](https://www.nwcouncil.org/sites/default/files/2019_1015_8.pdf)"
   ]
  }
 ],
 "metadata": {
  "kernelspec": {
   "display_name": "Python 3",
   "language": "python",
   "name": "python3"
  },
  "language_info": {
   "codemirror_mode": {
    "name": "ipython",
    "version": 3
   },
   "file_extension": ".py",
   "mimetype": "text/x-python",
   "name": "python",
   "nbconvert_exporter": "python",
   "pygments_lexer": "ipython3",
   "version": "3.7.3"
  }
 },
 "nbformat": 4,
 "nbformat_minor": 2
}
