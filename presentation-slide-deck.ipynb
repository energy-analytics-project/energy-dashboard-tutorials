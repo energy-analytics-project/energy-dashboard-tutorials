{
 "cells": [
  {
   "cell_type": "markdown",
   "metadata": {
    "slideshow": {
     "slide_type": "slide"
    }
   },
   "source": [
    "# Energy Dashboard \n",
    "\n",
    "## Overview\n",
    "\n",
    "The Energy Dashboard, a part of the Energy Analytics Project, is a tool to help de-carbonize the energy sector by providing easy access to publicly available data. \n",
    "\n",
    "## Presenter\n",
    "    \n",
    "    Todd Greenwood-Geer\n",
    "    pub+github@zwrob.com\n",
    "    Enviro Software Solutions, LLC.  \n",
    "    http://envirosoftwaresolutions.com\n",
    "    \n",
    "## Presentation Date\n",
    "\n",
    "Nov 14, 2019"
   ]
  },
  {
   "cell_type": "markdown",
   "metadata": {
    "slideshow": {
     "slide_type": "slide"
    }
   },
   "source": [
    "## US Energy Overview"
   ]
  },
  {
   "cell_type": "markdown",
   "metadata": {
    "slideshow": {
     "slide_type": "slide"
    }
   },
   "source": [
    "### Government Agencies\n",
    "\n",
    "* DOE\n",
    "* FERC\n",
    "* NIST\n",
    "* BOEM\n",
    "* OSM\n",
    "* BPA\n",
    "* USACE"
   ]
  },
  {
   "cell_type": "markdown",
   "metadata": {
    "slideshow": {
     "slide_type": "subslide"
    }
   },
   "source": [
    "#### DOE : http://www.energy.gov \n",
    "\n",
    "![pic](https://upload.wikimedia.org/wikipedia/commons/thumb/3/31/Kerncentrale_Doel_pic1.JPG/300px-Kerncentrale_Doel_pic1.JPG)\n",
    "\n",
    "_The United States Department of Energy (DOE) is a cabinet-level department of the United States Government concerned with the United States' policies regarding energy and safety in handling nuclear material. Its responsibilities include the nation's nuclear weapons program, nuclear reactor production for the United States Navy, energy conservation, energy-related research, radioactive waste disposal, and domestic energy production._ [wikipedia](https://en.wikipedia.org/wiki/United_States_Department_of_Energy)\n",
    "\n",
    "Photo courtesy of creativecommons.org."
   ]
  },
  {
   "cell_type": "markdown",
   "metadata": {
    "slideshow": {
     "slide_type": "subslide"
    }
   },
   "source": [
    "#### FERC : https://www.ferc.gov\n",
    "\n",
    "|GAS|HYDRO|LNG|\n",
    "|---|-----|---|\n",
    "|![pic](https://www.ferc.gov/images/photogallery/main_gas.jpg)|![pic](https://www.ferc.gov/images/photogallery/main_hydro.jpg)|![pic](https://www.ferc.gov/images/photogallery/main_lng.jpg)|\n",
    "\n",
    "_The Federal Energy Regulatory Commission (FERC) is the United States federal agency that regulates the transmission and wholesale sale of electricity and natural gas in interstate commerce and regulates the transportation of oil by pipeline in interstate commerce. FERC also reviews proposals to build interstate natural gas pipelines, natural gas storage projects, and liquefied natural gas (LNG) terminals, in addition to licensing non-federal hydropower projects._ [wikipedia](https://en.wikipedia.org/wiki/Federal_Energy_Regulatory_Commission)\n",
    "\n",
    "Photos Courtesy of FERC."
   ]
  },
  {
   "cell_type": "markdown",
   "metadata": {
    "slideshow": {
     "slide_type": "subslide"
    }
   },
   "source": [
    "#### NIST : https://www.nist.gov/\n",
    "\n",
    "_The National Institute of Standards and Technology (NIST) is a physical sciences laboratory, and a non-regulatory agency of the United States Department of Commerce. Its mission is to promote innovation and industrial competitiveness. NIST's activities are organized into laboratory programs that include nanoscale science and technology, engineering, information technology, neutron research, material measurement, and physical measurement._[wikipedia](https://en.wikipedia.org/wiki/National_Institute_of_Standards_and_Technology)\n",
    "\n",
    "https://www.nist.gov/topics/energy\n",
    "\n",
    "_NIST develops the testing, measurements, and reference materials needed to ensure the quality of energy-related products and services and ensure fairness in the marketplace._[NIST](https://www.nist.gov/topics/energy)\n",
    "\n",
    "\n",
    "    Alternative energy\n",
    "    Conventional energy\n",
    "    Electric power / smart grid\n",
    "    Energy efficiency\n",
    "    Fuels\n",
    "    Sustainability\n"
   ]
  },
  {
   "cell_type": "markdown",
   "metadata": {
    "slideshow": {
     "slide_type": "subslide"
    }
   },
   "source": [
    "#### BOEM : https://www.boem.gov/\n",
    "\n",
    "|WIND|OIL|\n",
    "|----|---|\n",
    "|![wind](https://farm4.staticflickr.com/3874/15224848795_5e692d41b1_m.jpg)|![oil](https://live.staticflickr.com/1769/42412887965_9c05cb8f58_m.jpg)|\n",
    "\n",
    "_The Mission of the Bureau of Ocean Energy Management is to manage development of U.S. Outer Continental Shelf energy and mineral resources in an environmentally and economically responsible way._[BOEM](https://www.boem.gov/About-BOEM/)\n",
    "\n",
    "Photos Courtesy of creativecommons.org."
   ]
  },
  {
   "cell_type": "markdown",
   "metadata": {
    "slideshow": {
     "slide_type": "subslide"
    }
   },
   "source": [
    "#### OSM : https://www.osmre.gov/\n",
    "\n",
    "|REGIONS|OPEN PIT MINE|RECLAMATION|\n",
    "|----------|-----------|----------|\n",
    "|![pic](https://upload.wikimedia.org/wikipedia/commons/5/50/Osm_Regions.gif)|![pic](https://farm1.staticflickr.com/446/31532656044_56475f7a36_m.jpg)|![pic](https://www.osmre.gov/images/AboutUsImage.jpg)|\n",
    "\n",
    "_The Office of Surface Mining Reclamation and Enforcement (OSMRE) is a bureau within the United States Department of the Interior. OSMRE is responsible for establishing a nationwide program to protect society and the environment from the adverse effects of surface coal mining operations, under which OSMRE is charged with balancing the nation’s need for continued domestic coal production with protection of the environment._[OSMRE](https://www.osmre.gov/about.shtm)\n",
    "\n",
    "Photos courtesy of OSMRE."
   ]
  },
  {
   "cell_type": "markdown",
   "metadata": {},
   "source": [
    "#### BPA : https://www.bpa.gov\n",
    "\n",
    "![Grand Coulee Dam](https://farm6.staticflickr.com/5648/20418974809_f38bdc91a6_m.jpg)\n",
    "\n",
    "_The Bonneville Power Administration is a nonprofit federal power marketing administration based in the Pacific Northwest. Although BPA is part of the U.S. Department of Energy, it is self-funding and covers its costs by selling its products and services. BPA markets wholesale electrical power from 31 federal hydroelectric projects in the Northwest, one nonfederal nuclear plant and several small nonfederal power plants. The dams are operated by the U.S. Army Corps of Engineers and the Bureau of Reclamation. The nonfederal nuclear plant, Columbia Generating Station, is owned and operated by Energy Northwest, a joint operating agency of the state of Washington. BPA provides about 28 percent of the electric power used in the Northwest and its resources — primarily hydroelectric — make BPA power nearly carbon free._\n",
    "\n",
    "Photos courtesy of BPA and creativecommons.org."
   ]
  },
  {
   "cell_type": "markdown",
   "metadata": {
    "slideshow": {
     "slide_type": "subslide"
    }
   },
   "source": [
    "#### BPA : https://www.bpa.gov\n",
    "\n",
    "##### Federal Power Administrations\n",
    "\n",
    "![Federal Power Administrations](https://www.bpa.gov/p/Generation/Hydro/hydro/PMA-Corps-Infographic-Map-460.jpg)\n",
    "\n",
    "Photos courtesy of BPA."
   ]
  },
  {
   "cell_type": "markdown",
   "metadata": {},
   "source": [
    "#### BPA : https://www.bpa.gov\n",
    "\n",
    "##### BPA Service Area\n",
    "\n",
    "![BPA Service Area](./resources/images/bpa-service-area.png)\n"
   ]
  },
  {
   "cell_type": "markdown",
   "metadata": {},
   "source": [
    "#### BPA : https://www.bpa.gov\n",
    "\n",
    "##### BPA Transmission Lines and Facilities\n",
    "\n",
    "![BPA Transmission](./resources/images/bpa-transmission-lines-small.png)\n",
    "\n",
    "_BPA also operates and maintains about three-fourths of the high-voltage transmission in its service territory. BPA’s territory includes Idaho, Oregon, Washington, western Montana and small parts of eastern Montana, California, Nevada, Utah and Wyoming._[BPA](https://www.bpa.gov/news/AboutUs/Pages/default.aspx)"
   ]
  },
  {
   "cell_type": "markdown",
   "metadata": {},
   "source": [
    "#### BPA : https://www.bpa.gov\n",
    "\n",
    "##### BPA Transmission Lines and Facilities\n",
    "\n",
    "![BPA Transmission Lines](./resources/images/bpa-transmission-lines-and-facilities.png)"
   ]
  },
  {
   "cell_type": "markdown",
   "metadata": {
    "slideshow": {
     "slide_type": "subslide"
    }
   },
   "source": [
    "#### USACE : https://www.usace.army.mil\n",
    "\n",
    "![Generators](https://www.nwp.usace.army.mil/portals/24/siteimages/hydropower/080315-A-GJ792-001.jpg)\n",
    "\n",
    "_The U.S. Army Corps of Engineers is the largest operator of hydroelectric power plants in the U.S., and one of the largest in the world. The 75 Corps plants have a total installed capacity of 20,474 megawatts and produce nearly 100 billion kilowatt-hours a year. Nearly a third of the nation's total hydropower output, it's enough energy to serve about ten million households, or roughly ten cities the size of Seattle._[USACE/HYDROPOWER](https://www.nwp.usace.army.mil/hydropower)\n",
    "\n",
    "Photo courtesy of USACE."
   ]
  },
  {
   "cell_type": "markdown",
   "metadata": {},
   "source": [
    "### Government Agencies (SUMMARY)\n",
    "\n",
    "* DOE       --> NUCLEAR\n",
    "* FERC      --> INTERSTATE TRANSMISSION\n",
    "* NIST      --> STANDARDS & RESEARCH\n",
    "* BOEM      --> OFFSHORE ENERGY (DRILLING & WIND)\n",
    "* OSM       --> COAL\n",
    "* BPA       --> HYDRO & TRANSMISSION\n",
    "* USACE     --> HYDRO (in this context)"
   ]
  },
  {
   "cell_type": "markdown",
   "metadata": {
    "slideshow": {
     "slide_type": "slide"
    }
   },
   "source": [
    "\n",
    "#### Energy Grid\n",
    "\n",
    "* RTO\n",
    "\n",
    "_A regional transmission organization (RTO) in the United States is an electric power transmission system operator (TSO) that coordinates, controls, and monitors a multi-state electric grid._\n",
    "\n",
    "* ISO\n",
    "\n",
    "_An independent system operator (ISO) is similarly an organization formed at the recommendation of FERC. In the areas where an ISO is established, it coordinates, controls, and monitors the operation of the electrical power system, usually within a single US state, but sometimes encompassing multiple states._\n",
    "\n",
    "_RTOs do the same thing (as ISOs) with an added component of greater responsibility for the transmission network, as established by the FERC._\n",
    "\n",
    "\n",
    "* https://en.wikipedia.org/wiki/Regional_transmission_organization_(North_America)\n",
    "* https://isorto.org/"
   ]
  },
  {
   "cell_type": "code",
   "execution_count": null,
   "metadata": {},
   "outputs": [],
   "source": []
  },
  {
   "cell_type": "markdown",
   "metadata": {
    "slideshow": {
     "slide_type": "slide"
    }
   },
   "source": [
    "## Links\n",
    "* https://www.thebalance.com/who-regulates-energy-companies-in-the-united-states-1182615\n",
    "* https://en.wikipedia.org/wiki/Regional_transmission_organization_(North_America)\n",
    "* https://isorto.org/"
   ]
  }
 ],
 "metadata": {
  "kernelspec": {
   "display_name": "Python 3",
   "language": "python",
   "name": "python3"
  },
  "language_info": {
   "codemirror_mode": {
    "name": "ipython",
    "version": 3
   },
   "file_extension": ".py",
   "mimetype": "text/x-python",
   "name": "python",
   "nbconvert_exporter": "python",
   "pygments_lexer": "ipython3",
   "version": "3.7.3"
  }
 },
 "nbformat": 4,
 "nbformat_minor": 2
}
